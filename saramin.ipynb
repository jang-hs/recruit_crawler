{
 "cells": [
  {
   "cell_type": "code",
   "execution_count": 159,
   "metadata": {},
   "outputs": [],
   "source": [
    "from selenium import webdriver\n",
    "from selenium.common.exceptions import NoSuchElementException\n",
    "from datetime import datetime\n",
    "import time\n",
    "import random\n",
    "import csv\n",
    "import pandas as pd"
   ]
  },
  {
   "cell_type": "code",
   "execution_count": null,
   "metadata": {},
   "outputs": [],
   "source": [
    "# 필수 입력\n",
    "area_select = ['서울', '경기'] # 전국 / 서울, 경기, 인천, 부산, 대구, 광주, 대전, 울산, 세종, 강원, 경남, 경북, 전남, 전북, 충북, 제주\n",
    "company_name = '유한'\n"
   ]
  },
  {
   "cell_type": "code",
   "execution_count": 138,
   "metadata": {},
   "outputs": [],
   "source": [
    "driver = webdriver.Chrome(executable_path=r'/Users/hyeseon/Documents/chromedriver')\n",
    "driver.get(\"https://www.saramin.co.kr/zf_user/\")\n"
   ]
  },
  {
   "cell_type": "code",
   "execution_count": 139,
   "metadata": {},
   "outputs": [],
   "source": [
    "#검색창 clear\n",
    "elem = driver.find_element_by_id('ipt_keyword_recruit')\n",
    "elem.clear()\n",
    "\n",
    "#검색어 입력\n",
    "elem.send_keys(company_name)\n"
   ]
  },
  {
   "cell_type": "code",
   "execution_count": 140,
   "metadata": {},
   "outputs": [],
   "source": [
    "# 검색클릭\n",
    "elem = driver.find_element_by_id(\"btn_search_recruit\")\n",
    "elem.click()"
   ]
  },
  {
   "cell_type": "code",
   "execution_count": 141,
   "metadata": {},
   "outputs": [],
   "source": [
    "cha = ['Y', 'Y', 'N']"
   ]
  },
  {
   "cell_type": "code",
   "execution_count": 142,
   "metadata": {},
   "outputs": [],
   "source": [
    "# 채용정보 더보기 후 첫페이지로 이동\n",
    "elem = driver.find_element_by_xpath('//*[@id=\"recruit_info_list\"]/div[2]/div/a')\n",
    "elem.click()\n"
   ]
  },
  {
   "cell_type": "code",
   "execution_count": 143,
   "metadata": {},
   "outputs": [],
   "source": [
    "elem = driver.find_element_by_xpath('//*[@id=\"recruit_info_list\"]/div[2]/div/a[1]')\n",
    "elem.click()"
   ]
  },
  {
   "cell_type": "code",
   "execution_count": 144,
   "metadata": {},
   "outputs": [],
   "source": [
    "# 처음 100개를 받아오기\n",
    "elem = driver.find_element_by_xpath(\"//*[@id='recruit_info']/div[2]/div/div[3]/button\")\n",
    "elem.click()\n"
   ]
  },
  {
   "cell_type": "code",
   "execution_count": 145,
   "metadata": {},
   "outputs": [],
   "source": [
    "elem = driver.find_element_by_xpath(\"//*[contains(text(), '100개씩')]\")\n",
    "elem.click()\n"
   ]
  },
  {
   "cell_type": "code",
   "execution_count": 147,
   "metadata": {},
   "outputs": [],
   "source": [
    "# 지역 선택으로 받을 것\n",
    "elem = driver.find_element_by_class_name('area_section')\n",
    "elem.click()\n",
    "\n",
    "# 지역 펼쳐보기\n",
    "elem = driver.find_element_by_class_name('btn_all_category')\n",
    "elem.click()\n"
   ]
  },
  {
   "cell_type": "code",
   "execution_count": 148,
   "metadata": {},
   "outputs": [],
   "source": [
    "area = driver.find_element_by_xpath('//*[@id=\"sp_main_wrapper\"]/div[2]/div/div[2]/div[2]/div[1]/div[2]/div/ul[1]')\n",
    "area = area.find_elements_by_tag_name(\"li\")\n"
   ]
  },
  {
   "cell_type": "code",
   "execution_count": 156,
   "metadata": {},
   "outputs": [],
   "source": [
    "area_list = []\n",
    "xpath_list = []\n",
    "for j in range(len(area)):\n",
    "    area_id = area[j].get_attribute(\"id\")\n",
    "    \n",
    "    if area_id == \"\":\n",
    "        continue\n",
    "\n",
    "    xpath = '//*[@id=\"'+area_id+'\"]'\n",
    "    title = area[j].find_element_by_tag_name('span').text\n",
    "    area_list.append(title)\n",
    "    xpath_list.append([xpath, title])\n"
   ]
  },
  {
   "cell_type": "code",
   "execution_count": 163,
   "metadata": {},
   "outputs": [],
   "source": [
    "area_path_table = pd.DataFrame(xpath_list, columns =['xpath', 'area'])\n",
    "area_path_table['selected']  = area_path_table['area'].map(lambda x : 1 if '전국' in area_select else 1 if x in area_select else 0)"
   ]
  },
  {
   "cell_type": "code",
   "execution_count": 210,
   "metadata": {},
   "outputs": [],
   "source": []
  },
  {
   "cell_type": "code",
   "execution_count": 211,
   "metadata": {},
   "outputs": [],
   "source": []
  },
  {
   "cell_type": "code",
   "execution_count": 67,
   "metadata": {},
   "outputs": [],
   "source": [
    "# 선택된 지역 기준으로 채용 공고를 선택하게 만들기."
   ]
  },
  {
   "cell_type": "code",
   "execution_count": null,
   "metadata": {},
   "outputs": [],
   "source": []
  },
  {
   "cell_type": "code",
   "execution_count": null,
   "metadata": {},
   "outputs": [],
   "source": []
  },
  {
   "cell_type": "code",
   "execution_count": null,
   "metadata": {},
   "outputs": [],
   "source": []
  },
  {
   "cell_type": "code",
   "execution_count": 8,
   "metadata": {},
   "outputs": [],
   "source": [
    "# 일반 채용정보 / 파견.대행 / 헤드헌팅 중 선택하는 경우를 리스트로 받음\n",
    "# 전체 채용 정보일 경우 pass로\n",
    "if cha == ['Y', 'Y', 'Y'] :\n",
    "    pass\n",
    "\n",
    "# 최소한 하나 이상의 채용 조건을 선택해야 함\n",
    "if cha[0] + cha[1] + cha[2] == 'NNN' : \n",
    "    print('error')\n",
    "\n",
    "# 일반 채용정보 선택 해제 \n",
    "if cha[0] != 'Y' :\n",
    "    elem = driver.find_element_by_xpath('//*[@id=\"recruit_info\"]/div[1]/div/div[1]')\n",
    "    elem.click()\n",
    "    \n",
    "if cha[1] != 'Y' :\n",
    "    elem = driver.find_element_by_xpath('//*[@id=\"recruit_info\"]/div[1]/div/div[2]')\n",
    "    elem.click()\n",
    "    \n",
    "if cha[2] != 'Y' :\n",
    "    elem = driver.find_element_by_xpath('//*[@id=\"recruit_info\"]/div[1]/div/div[3]')\n",
    "    elem.click()\n"
   ]
  },
  {
   "cell_type": "code",
   "execution_count": null,
   "metadata": {},
   "outputs": [],
   "source": []
  },
  {
   "cell_type": "code",
   "execution_count": 162,
   "metadata": {},
   "outputs": [],
   "source": [
    "driver.quit()"
   ]
  },
  {
   "cell_type": "code",
   "execution_count": null,
   "metadata": {},
   "outputs": [],
   "source": []
  }
 ],
 "metadata": {
  "kernelspec": {
   "display_name": "Python 3",
   "language": "python",
   "name": "python3"
  },
  "language_info": {
   "codemirror_mode": {
    "name": "ipython",
    "version": 3
   },
   "file_extension": ".py",
   "mimetype": "text/x-python",
   "name": "python",
   "nbconvert_exporter": "python",
   "pygments_lexer": "ipython3",
   "version": "3.8.3"
  }
 },
 "nbformat": 4,
 "nbformat_minor": 4
}
