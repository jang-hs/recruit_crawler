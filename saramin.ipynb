{
 "cells": [
  {
   "cell_type": "code",
   "execution_count": 1,
   "metadata": {},
   "outputs": [],
   "source": [
    "from selenium import webdriver\n",
    "from selenium.common.exceptions import NoSuchElementException\n",
    "from datetime import datetime\n",
    "import time\n",
    "import random\n",
    "import csv\n",
    "import pandas as pd"
   ]
  },
  {
   "cell_type": "code",
   "execution_count": 2,
   "metadata": {},
   "outputs": [],
   "source": [
    "# 필수 입력\n",
    "area_select = ['서울', '경기'] # 전국 / 서울, 경기, 인천, 부산, 대구, 광주, 대전, 울산, 세종, 강원, 경남, 경북, 전남, 전북, 충북, 제주\n",
    "company_name = '삼성'\n"
   ]
  },
  {
   "cell_type": "code",
   "execution_count": 3,
   "metadata": {},
   "outputs": [],
   "source": [
    "driver = webdriver.Chrome(executable_path=r'/Users/hyeseon/Documents/chromedriver')\n",
    "driver.get(\"https://www.saramin.co.kr/zf_user/\")\n"
   ]
  },
  {
   "cell_type": "code",
   "execution_count": 4,
   "metadata": {},
   "outputs": [],
   "source": [
    "#검색창 clear\n",
    "elem = driver.find_element_by_id('ipt_keyword_recruit')\n",
    "elem.clear()\n",
    "\n",
    "#검색어 입력\n",
    "elem.send_keys(company_name)\n"
   ]
  },
  {
   "cell_type": "code",
   "execution_count": 5,
   "metadata": {},
   "outputs": [],
   "source": [
    "# 검색클릭\n",
    "elem = driver.find_element_by_id(\"btn_search_recruit\")\n",
    "elem.click()\n",
    "\n",
    "time.sleep(random.randint(1, 3))"
   ]
  },
  {
   "cell_type": "code",
   "execution_count": 6,
   "metadata": {},
   "outputs": [],
   "source": [
    "cha = ['Y', 'Y', 'N']"
   ]
  },
  {
   "cell_type": "code",
   "execution_count": 7,
   "metadata": {},
   "outputs": [],
   "source": [
    "# 채용정보 더보기 후 첫페이지로 이동\n",
    "elem = driver.find_element_by_xpath('//*[@id=\"recruit_info_list\"]/div[2]/div/a')\n",
    "elem.click()\n"
   ]
  },
  {
   "cell_type": "code",
   "execution_count": 8,
   "metadata": {},
   "outputs": [],
   "source": [
    "elem = driver.find_element_by_xpath('//*[@id=\"recruit_info_list\"]/div[2]/div/a[1]')\n",
    "elem.click()"
   ]
  },
  {
   "cell_type": "code",
   "execution_count": 9,
   "metadata": {},
   "outputs": [],
   "source": [
    "# 처음 100개를 받아오기\n",
    "elem = driver.find_element_by_xpath(\"//*[@id='recruit_info']/div[2]/div/div[3]/button\")\n",
    "elem.click()\n"
   ]
  },
  {
   "cell_type": "code",
   "execution_count": 10,
   "metadata": {},
   "outputs": [],
   "source": [
    "elem = driver.find_element_by_xpath(\"//*[contains(text(), '100개씩')]\")\n",
    "elem.click()\n",
    "time.sleep(random.randint(1, 3))"
   ]
  },
  {
   "cell_type": "code",
   "execution_count": 11,
   "metadata": {},
   "outputs": [],
   "source": [
    "# 제일 상단으로 이동\n",
    "driver.execute_script(\"window.scrollTo(0, 0);\")"
   ]
  },
  {
   "cell_type": "code",
   "execution_count": 12,
   "metadata": {},
   "outputs": [],
   "source": [
    "# 지역 선택으로 받을 것\n",
    "elem = driver.find_element_by_class_name('area_section')\n",
    "elem.click()"
   ]
  },
  {
   "cell_type": "code",
   "execution_count": 13,
   "metadata": {},
   "outputs": [],
   "source": [
    "\n",
    "# 지역 펼쳐보기\n",
    "elem = driver.find_element_by_class_name('btn_all_category')\n",
    "elem.click()\n"
   ]
  },
  {
   "cell_type": "code",
   "execution_count": 14,
   "metadata": {},
   "outputs": [],
   "source": [
    "area = driver.find_element_by_xpath('//*[@id=\"sp_main_wrapper\"]/div[2]/div/div[2]/div[2]/div[1]/div[2]/div/ul[1]')\n",
    "area = area.find_elements_by_tag_name(\"li\")\n"
   ]
  },
  {
   "cell_type": "code",
   "execution_count": 15,
   "metadata": {},
   "outputs": [],
   "source": [
    "area_list = []\n",
    "xpath_list = []\n",
    "for j in range(len(area)):\n",
    "    area_id = area[j].get_attribute(\"id\")\n",
    "    \n",
    "    if area_id == \"\":\n",
    "        continue\n",
    "\n",
    "    xpath = '//*[@id=\"'+area_id+'\"]'\n",
    "    title = area[j].find_element_by_tag_name('span').text\n",
    "    area_list.append(title)\n",
    "    xpath_list.append([xpath, title])\n",
    "time.sleep(random.randint(1, 3))"
   ]
  },
  {
   "cell_type": "code",
   "execution_count": 16,
   "metadata": {},
   "outputs": [],
   "source": [
    "area_path_table = pd.DataFrame(xpath_list, columns =['xpath', 'area'])\n",
    "area_path_table['selected']  = area_path_table['area'].map(lambda x : 1 if '전국' in area_select else 1 if x in area_select else 0)"
   ]
  },
  {
   "cell_type": "code",
   "execution_count": 17,
   "metadata": {},
   "outputs": [],
   "source": [
    "# 선택된 지역 기준으로 채용 공고를 선택하게 만들기."
   ]
  },
  {
   "cell_type": "code",
   "execution_count": 18,
   "metadata": {},
   "outputs": [],
   "source": [
    "area_list = list(area_path_table[area_path_table['selected']==1]['xpath'])"
   ]
  },
  {
   "cell_type": "code",
   "execution_count": 19,
   "metadata": {},
   "outputs": [],
   "source": [
    "for area in area_list:\n",
    "    elem = driver.find_element_by_xpath(area)\n",
    "    elem.click()"
   ]
  },
  {
   "cell_type": "code",
   "execution_count": 20,
   "metadata": {},
   "outputs": [],
   "source": [
    "# 지역 선택 닫기\n",
    "elem = driver.find_element_by_class_name('area_section')\n",
    "elem.click()"
   ]
  },
  {
   "cell_type": "code",
   "execution_count": 21,
   "metadata": {},
   "outputs": [],
   "source": [
    "time.sleep(random.randint(1, 3))"
   ]
  },
  {
   "cell_type": "code",
   "execution_count": 22,
   "metadata": {},
   "outputs": [],
   "source": [
    "# 일반 채용정보 / 파견.대행 / 헤드헌팅 중 선택하는 경우를 리스트로 받음\n",
    "# 전체 채용 정보일 경우 pass로\n",
    "if cha == ['Y', 'Y', 'Y'] :\n",
    "    pass\n",
    "\n",
    "# 최소한 하나 이상의 채용 조건을 선택해야 함\n",
    "if cha[0] + cha[1] + cha[2] == 'NNN' : \n",
    "    print('error')\n",
    "\n",
    "# 일반 채용정보 선택 해제 \n",
    "if cha[0] != 'Y' :\n",
    "    elem = driver.find_element_by_xpath('//*[@id=\"recruit_info\"]/div[1]/div/div[1]')\n",
    "    elem.click()\n",
    "    \n",
    "if cha[1] != 'Y' :\n",
    "    elem = driver.find_element_by_xpath('//*[@id=\"recruit_info\"]/div[1]/div/div[2]')\n",
    "    elem.click()\n",
    "    \n",
    "if cha[2] != 'Y' :\n",
    "    elem = driver.find_element_by_xpath('//*[@id=\"recruit_info\"]/div[1]/div/div[3]')\n",
    "    elem.click()\n"
   ]
  },
  {
   "cell_type": "code",
   "execution_count": 23,
   "metadata": {},
   "outputs": [],
   "source": [
    "# 정렬 순서 열기\n",
    "elem = driver.find_element_by_xpath('//*[@id=\"recruit_info\"]/div[2]/div/div[2]/button')\n",
    "elem.click()\n"
   ]
  },
  {
   "cell_type": "code",
   "execution_count": 24,
   "metadata": {},
   "outputs": [],
   "source": [
    "# 정렬 순서 1 관련도/2 정확도/3 등록일/4 수정일/5 마감일/6 지원자/7 사원수\n",
    "orderby = 2\n",
    "order_xpath = '//*[@id=\"recruit_info\"]/div[2]/div/div[2]/div/ul/li[{}]'.format(str(orderby))"
   ]
  },
  {
   "cell_type": "code",
   "execution_count": 25,
   "metadata": {},
   "outputs": [],
   "source": [
    "# 정렬 순서 클릭\n",
    "elem = driver.find_element_by_xpath(order_xpath)\n",
    "elem.click()"
   ]
  },
  {
   "cell_type": "code",
   "execution_count": 26,
   "metadata": {},
   "outputs": [],
   "source": [
    "# 공고 개수 확인\n",
    "recruit = driver.find_element_by_id('recruit_info_list')\n",
    "recruit = recruit.find_elements_by_tag_name('h2')\n",
    "content_count = len(recruit)"
   ]
  },
  {
   "cell_type": "code",
   "execution_count": 27,
   "metadata": {},
   "outputs": [],
   "source": [
    "time.sleep(random.randint(1, 3))"
   ]
  },
  {
   "cell_type": "code",
   "execution_count": 28,
   "metadata": {},
   "outputs": [],
   "source": [
    "full_dataset = pd.DataFrame(columns = ['title', 'title_link', 'end_date', 'text_info','work_keyword','office_name','office_link'])"
   ]
  },
  {
   "cell_type": "code",
   "execution_count": 29,
   "metadata": {},
   "outputs": [],
   "source": [
    "recruit = driver.find_element_by_xpath('//*[@id=\"recruit_info_list\"]/div[1]')"
   ]
  },
  {
   "cell_type": "code",
   "execution_count": null,
   "metadata": {},
   "outputs": [],
   "source": []
  },
  {
   "cell_type": "code",
   "execution_count": 30,
   "metadata": {},
   "outputs": [],
   "source": [
    "for item_num in range(1,content_count+1):\n",
    "    # 공고 제목 데이터 선택\n",
    "    office1 = driver.find_element_by_xpath('//*[@id=\"recruit_info_list\"]/div[1]/div[{}]'.format(str(item_num)))\n",
    "    \n",
    "    # 공고명\n",
    "    title = office1.find_element_by_tag_name('a').get_attribute(\"title\")\n",
    "    \n",
    "    # 공고링크\n",
    "    title_link = office1.find_element_by_tag_name('a').get_attribute(\"href\")\n",
    "    \n",
    "    # 공고 마감일\n",
    "    end_date = office1.find_element_by_class_name(\"date\").text\n",
    "    \n",
    "    # 공고 지역\\n경력\\n학력\\n직업 종류 + 연봉 있는경우\n",
    "    text_info = office1.find_element_by_class_name(\"job_condition\").text\n",
    "\n",
    "    # 업종 ' 전까지는 업종 키워드\n",
    "    work_keyword = office1.find_element_by_class_name(\"job_sector\").text\n",
    "\n",
    "    \n",
    "    # 기업명 선택\n",
    "    office2 = driver.find_element_by_xpath('//*[@id=\"recruit_info_list\"]/div[1]/div[{}]/div[2]/strong'.format(str(item_num)))\n",
    "    # 기업명 text\n",
    "    office_name = office2.find_element_by_tag_name('a').get_attribute(\"title\")\n",
    "    # 기업 링크\n",
    "    office_link = office1.find_element_by_tag_name('a').get_attribute(\"href\")\n",
    "    \n",
    "    temp_dataset = pd.DataFrame({'title':[title], 'title_link':[title_link], 'end_date':[end_date], 'text_info':[text_info],'work_keyword':[work_keyword],'office_name':[office_name], 'office_link':[office_link]})\n",
    "    \n",
    "    full_dataset = pd.concat([full_dataset, temp_dataset], axis = 0)"
   ]
  },
  {
   "cell_type": "code",
   "execution_count": 31,
   "metadata": {},
   "outputs": [
    {
     "data": {
      "text/html": [
       "<div>\n",
       "<style scoped>\n",
       "    .dataframe tbody tr th:only-of-type {\n",
       "        vertical-align: middle;\n",
       "    }\n",
       "\n",
       "    .dataframe tbody tr th {\n",
       "        vertical-align: top;\n",
       "    }\n",
       "\n",
       "    .dataframe thead th {\n",
       "        text-align: right;\n",
       "    }\n",
       "</style>\n",
       "<table border=\"1\" class=\"dataframe\">\n",
       "  <thead>\n",
       "    <tr style=\"text-align: right;\">\n",
       "      <th></th>\n",
       "      <th>title</th>\n",
       "      <th>title_link</th>\n",
       "      <th>end_date</th>\n",
       "      <th>text_info</th>\n",
       "      <th>work_keyword</th>\n",
       "      <th>office_name</th>\n",
       "      <th>office_link</th>\n",
       "    </tr>\n",
       "  </thead>\n",
       "  <tbody>\n",
       "    <tr>\n",
       "      <th>0</th>\n",
       "      <td>르노삼성자동차 송탄대리점   영업사원 채용 [월 500~700]</td>\n",
       "      <td>http://www.saramin.co.kr/zf_user/jobs/relay/vi...</td>\n",
       "      <td>~ 10/04(일)</td>\n",
       "      <td>경기 평택시\\n경력무관\\n초대졸↑\\n계약직·파견직</td>\n",
       "      <td>자동차매장, 자동차영업 '삼성' 검색위치 근무 부서 , 지원 분야 , 공고 내용 ,...</td>\n",
       "      <td>르노삼성자동차 송탄지점</td>\n",
       "      <td>http://www.saramin.co.kr/zf_user/jobs/relay/vi...</td>\n",
       "    </tr>\n",
       "    <tr>\n",
       "      <th>1</th>\n",
       "      <td>르노삼성자동차 서비스 정규직 (신입, 경력) 채용공고</td>\n",
       "      <td>http://www.saramin.co.kr/zf_user/jobs/relay/vi...</td>\n",
       "      <td>~ 09/05(토)</td>\n",
       "      <td>경기 구리시\\n경력무관\\n학력무관\\n정규직</td>\n",
       "      <td>경정비, 카센터, A·S센터 외 '삼성' 검색위치 지원 분야 , 공고 내용 , 기업...</td>\n",
       "      <td>르노삼성자동차서비스코너교문점</td>\n",
       "      <td>http://www.saramin.co.kr/zf_user/jobs/relay/vi...</td>\n",
       "    </tr>\n",
       "    <tr>\n",
       "      <th>2</th>\n",
       "      <td>삼성가전배송 경력무관 채용</td>\n",
       "      <td>http://www.saramin.co.kr/zf_user/jobs/relay/vi...</td>\n",
       "      <td>오늘마감</td>\n",
       "      <td>대구 달서구\\n경력무관\\n학력무관\\n정규직\\n200 만원</td>\n",
       "      <td>배송·택배, 운송·운수, 물류센터 외 '삼성' 검색위치 지원 분야 , 공고 내용 ,...</td>\n",
       "      <td>삼성물류센타 다존텍(황현찬)</td>\n",
       "      <td>http://www.saramin.co.kr/zf_user/jobs/relay/vi...</td>\n",
       "    </tr>\n",
       "    <tr>\n",
       "      <th>3</th>\n",
       "      <td>삼성생명GFC사업부 재무전문가의 개인비서 채용</td>\n",
       "      <td>http://www.saramin.co.kr/zf_user/jobs/relay/vi...</td>\n",
       "      <td>~ 09/20(일)</td>\n",
       "      <td>서울 강남구\\n경력무관\\n초대졸↑\\n계약직·인턴직</td>\n",
       "      <td>생명보험, 보험사, 임원비서 외 '삼성' 검색위치 지원 분야 , 공고 내용 , 기업...</td>\n",
       "      <td>삼성생명보험(주)</td>\n",
       "      <td>http://www.saramin.co.kr/zf_user/jobs/relay/vi...</td>\n",
       "    </tr>\n",
       "    <tr>\n",
       "      <th>4</th>\n",
       "      <td>삼성 디지털프라자 서구점 정규직 모집(영업, 경리)</td>\n",
       "      <td>http://www.saramin.co.kr/zf_user/jobs/relay/vi...</td>\n",
       "      <td>~ 10/12(월)</td>\n",
       "      <td>인천 서구\\n신입·경력\\n고졸↑\\n정규직\\n3,000 만원</td>\n",
       "      <td>IT·통신기기판매, 가전·오디오판매, 매장판매 외 '삼성' 검색위치 근무 부서 , ...</td>\n",
       "      <td>삼성서구전자(주)</td>\n",
       "      <td>http://www.saramin.co.kr/zf_user/jobs/relay/vi...</td>\n",
       "    </tr>\n",
       "    <tr>\n",
       "      <th>...</th>\n",
       "      <td>...</td>\n",
       "      <td>...</td>\n",
       "      <td>...</td>\n",
       "      <td>...</td>\n",
       "      <td>...</td>\n",
       "      <td>...</td>\n",
       "      <td>...</td>\n",
       "    </tr>\n",
       "    <tr>\n",
       "      <th>95</th>\n",
       "      <td>삼성전자 가전제품 배송 설치 보조기사님 모집합니다</td>\n",
       "      <td>http://www.saramin.co.kr/zf_user/jobs/relay/vi...</td>\n",
       "      <td>~ 10/13(화)</td>\n",
       "      <td>경남 양산시\\n경력무관\\n학력무관\\n정규직\\n180 만원</td>\n",
       "      <td>배송·택배, 운송·운수, 배송·운송 '삼성' 검색위치 공고 내용 , 담당 업무 , ...</td>\n",
       "      <td>(주)대륙</td>\n",
       "      <td>http://www.saramin.co.kr/zf_user/jobs/relay/vi...</td>\n",
       "    </tr>\n",
       "    <tr>\n",
       "      <th>96</th>\n",
       "      <td>[삼성 현장]안전감시단 채용</td>\n",
       "      <td>http://www.saramin.co.kr/zf_user/jobs/relay/vi...</td>\n",
       "      <td>~ 08/31(월)</td>\n",
       "      <td>충남 아산시\\n신입·경력\\n학력무관\\n정규직</td>\n",
       "      <td>용역업체, 보안·경비업체, 시설관리 외 '삼성' 검색위치 공고 내용 , 담당 업무 ...</td>\n",
       "      <td>(주)에스가드</td>\n",
       "      <td>http://www.saramin.co.kr/zf_user/jobs/relay/vi...</td>\n",
       "    </tr>\n",
       "    <tr>\n",
       "      <th>97</th>\n",
       "      <td>삼성 반도체 평택 사업장 전자직발 협력사 안전관리원모집</td>\n",
       "      <td>http://www.saramin.co.kr/zf_user/jobs/relay/vi...</td>\n",
       "      <td>내일마감</td>\n",
       "      <td>경기 평택시\\n경력무관\\n학력무관\\n정규직\\n3,400~3,600</td>\n",
       "      <td>파견대행, 안전 '삼성' 검색위치 공고 내용 , 담당 업무 , 공고 제목</td>\n",
       "      <td>(주)제이에스씨앤에스</td>\n",
       "      <td>http://www.saramin.co.kr/zf_user/jobs/relay/vi...</td>\n",
       "    </tr>\n",
       "    <tr>\n",
       "      <th>98</th>\n",
       "      <td>[삼성협력사] 자동화설비 엔지니어 모집(3명) - 경력무관</td>\n",
       "      <td>http://www.saramin.co.kr/zf_user/jobs/relay/vi...</td>\n",
       "      <td>~ 10/19(월)</td>\n",
       "      <td>충남 아산시\\n경력무관\\n학력무관\\n정규직</td>\n",
       "      <td>자동제어, 자동화설비 '삼성' 검색위치 공고 내용 , 담당 업무 , 공고 제목</td>\n",
       "      <td>이엠에스(EMS)</td>\n",
       "      <td>http://www.saramin.co.kr/zf_user/jobs/relay/vi...</td>\n",
       "    </tr>\n",
       "    <tr>\n",
       "      <th>99</th>\n",
       "      <td>삼성 중공업내  크레인정비 전기기사 정규직 모집</td>\n",
       "      <td>http://www.saramin.co.kr/zf_user/jobs/relay/vi...</td>\n",
       "      <td>~ 10/13(화)</td>\n",
       "      <td>경남 거제시\\n경력무관\\n학력무관\\n정규직</td>\n",
       "      <td>전기, 전기설비, 전기설계 외 '삼성' 검색위치 공고 내용 , 담당 업무 , 공고 제목</td>\n",
       "      <td>(주)태진</td>\n",
       "      <td>http://www.saramin.co.kr/zf_user/jobs/relay/vi...</td>\n",
       "    </tr>\n",
       "  </tbody>\n",
       "</table>\n",
       "<p>100 rows × 7 columns</p>\n",
       "</div>"
      ],
      "text/plain": [
       "                                  title  \\\n",
       "0   르노삼성자동차 송탄대리점   영업사원 채용 [월 500~700]   \n",
       "1         르노삼성자동차 서비스 정규직 (신입, 경력) 채용공고   \n",
       "2                        삼성가전배송 경력무관 채용   \n",
       "3             삼성생명GFC사업부 재무전문가의 개인비서 채용   \n",
       "4          삼성 디지털프라자 서구점 정규직 모집(영업, 경리)   \n",
       "..                                  ...   \n",
       "95          삼성전자 가전제품 배송 설치 보조기사님 모집합니다   \n",
       "96                      [삼성 현장]안전감시단 채용   \n",
       "97       삼성 반도체 평택 사업장 전자직발 협력사 안전관리원모집   \n",
       "98     [삼성협력사] 자동화설비 엔지니어 모집(3명) - 경력무관   \n",
       "99           삼성 중공업내  크레인정비 전기기사 정규직 모집   \n",
       "\n",
       "                                           title_link    end_date  \\\n",
       "0   http://www.saramin.co.kr/zf_user/jobs/relay/vi...  ~ 10/04(일)   \n",
       "1   http://www.saramin.co.kr/zf_user/jobs/relay/vi...  ~ 09/05(토)   \n",
       "2   http://www.saramin.co.kr/zf_user/jobs/relay/vi...        오늘마감   \n",
       "3   http://www.saramin.co.kr/zf_user/jobs/relay/vi...  ~ 09/20(일)   \n",
       "4   http://www.saramin.co.kr/zf_user/jobs/relay/vi...  ~ 10/12(월)   \n",
       "..                                                ...         ...   \n",
       "95  http://www.saramin.co.kr/zf_user/jobs/relay/vi...  ~ 10/13(화)   \n",
       "96  http://www.saramin.co.kr/zf_user/jobs/relay/vi...  ~ 08/31(월)   \n",
       "97  http://www.saramin.co.kr/zf_user/jobs/relay/vi...        내일마감   \n",
       "98  http://www.saramin.co.kr/zf_user/jobs/relay/vi...  ~ 10/19(월)   \n",
       "99  http://www.saramin.co.kr/zf_user/jobs/relay/vi...  ~ 10/13(화)   \n",
       "\n",
       "                               text_info  \\\n",
       "0            경기 평택시\\n경력무관\\n초대졸↑\\n계약직·파견직   \n",
       "1                경기 구리시\\n경력무관\\n학력무관\\n정규직   \n",
       "2        대구 달서구\\n경력무관\\n학력무관\\n정규직\\n200 만원   \n",
       "3            서울 강남구\\n경력무관\\n초대졸↑\\n계약직·인턴직   \n",
       "4       인천 서구\\n신입·경력\\n고졸↑\\n정규직\\n3,000 만원   \n",
       "..                                   ...   \n",
       "95       경남 양산시\\n경력무관\\n학력무관\\n정규직\\n180 만원   \n",
       "96              충남 아산시\\n신입·경력\\n학력무관\\n정규직   \n",
       "97  경기 평택시\\n경력무관\\n학력무관\\n정규직\\n3,400~3,600   \n",
       "98               충남 아산시\\n경력무관\\n학력무관\\n정규직   \n",
       "99               경남 거제시\\n경력무관\\n학력무관\\n정규직   \n",
       "\n",
       "                                         work_keyword      office_name  \\\n",
       "0   자동차매장, 자동차영업 '삼성' 검색위치 근무 부서 , 지원 분야 , 공고 내용 ,...     르노삼성자동차 송탄지점   \n",
       "1   경정비, 카센터, A·S센터 외 '삼성' 검색위치 지원 분야 , 공고 내용 , 기업...  르노삼성자동차서비스코너교문점   \n",
       "2   배송·택배, 운송·운수, 물류센터 외 '삼성' 검색위치 지원 분야 , 공고 내용 ,...  삼성물류센타 다존텍(황현찬)   \n",
       "3   생명보험, 보험사, 임원비서 외 '삼성' 검색위치 지원 분야 , 공고 내용 , 기업...        삼성생명보험(주)   \n",
       "4   IT·통신기기판매, 가전·오디오판매, 매장판매 외 '삼성' 검색위치 근무 부서 , ...        삼성서구전자(주)   \n",
       "..                                                ...              ...   \n",
       "95  배송·택배, 운송·운수, 배송·운송 '삼성' 검색위치 공고 내용 , 담당 업무 , ...            (주)대륙   \n",
       "96  용역업체, 보안·경비업체, 시설관리 외 '삼성' 검색위치 공고 내용 , 담당 업무 ...          (주)에스가드   \n",
       "97           파견대행, 안전 '삼성' 검색위치 공고 내용 , 담당 업무 , 공고 제목      (주)제이에스씨앤에스   \n",
       "98        자동제어, 자동화설비 '삼성' 검색위치 공고 내용 , 담당 업무 , 공고 제목        이엠에스(EMS)   \n",
       "99   전기, 전기설비, 전기설계 외 '삼성' 검색위치 공고 내용 , 담당 업무 , 공고 제목            (주)태진   \n",
       "\n",
       "                                          office_link  \n",
       "0   http://www.saramin.co.kr/zf_user/jobs/relay/vi...  \n",
       "1   http://www.saramin.co.kr/zf_user/jobs/relay/vi...  \n",
       "2   http://www.saramin.co.kr/zf_user/jobs/relay/vi...  \n",
       "3   http://www.saramin.co.kr/zf_user/jobs/relay/vi...  \n",
       "4   http://www.saramin.co.kr/zf_user/jobs/relay/vi...  \n",
       "..                                                ...  \n",
       "95  http://www.saramin.co.kr/zf_user/jobs/relay/vi...  \n",
       "96  http://www.saramin.co.kr/zf_user/jobs/relay/vi...  \n",
       "97  http://www.saramin.co.kr/zf_user/jobs/relay/vi...  \n",
       "98  http://www.saramin.co.kr/zf_user/jobs/relay/vi...  \n",
       "99  http://www.saramin.co.kr/zf_user/jobs/relay/vi...  \n",
       "\n",
       "[100 rows x 7 columns]"
      ]
     },
     "execution_count": 31,
     "metadata": {},
     "output_type": "execute_result"
    }
   ],
   "source": [
    "time.sleep(random.randint(1, 3))\n",
    "full_dataset = full_dataset.reset_index(drop=True)\n",
    "full_dataset"
   ]
  },
  {
   "cell_type": "code",
   "execution_count": 32,
   "metadata": {},
   "outputs": [],
   "source": [
    "### \\n으로 구분되어 있는거 분리하고, 업종 키워도드 새로운 열로 분리"
   ]
  },
  {
   "cell_type": "code",
   "execution_count": 33,
   "metadata": {},
   "outputs": [],
   "source": [
    "# 날짜 유형 통일\n",
    "from datetime import datetime,timedelta"
   ]
  },
  {
   "cell_type": "code",
   "execution_count": 34,
   "metadata": {},
   "outputs": [],
   "source": [
    "end_date_after = []\n",
    "for row_num in range(len(full_dataset)):\n",
    "    end_date_before = full_dataset['end_date'][row_num]\n",
    "    \n",
    "    # 오늘\n",
    "    if '오늘' in end_date_before:\n",
    "        end_date_after.append(datetime.today().strftime(\"%Y/%m/%d\"))\n",
    "    elif '내일' in end_date_before:\n",
    "        end_date_after.append((datetime.today() + timedelta(1)).strftime(\"%Y/%m/%d\"))\n",
    "    elif '상시' in end_date_before:\n",
    "        end_date_after.append('상시')\n",
    "    elif '채용시'  in end_date_before:\n",
    "        end_date_after.append('채용시')\n",
    "\n",
    "    elif '~' in end_date_before:\n",
    "        year = datetime.today().year\n",
    "        month = full_dataset['end_date'][row_num][2:4]\n",
    "        day = full_dataset['end_date'][row_num][5:7]\n",
    "        date_after = str(year)+str(month)+str(day)\n",
    "        end_date_after.append(pd.to_datetime(date_after).strftime(\"%Y/%m/%d\"))\n",
    "    \n",
    "    else : end_date_after.append(str(end_date_before))\n",
    "        "
   ]
  },
  {
   "cell_type": "code",
   "execution_count": 35,
   "metadata": {},
   "outputs": [],
   "source": [
    "full_dataset['end_date'] = end_date_after"
   ]
  },
  {
   "cell_type": "code",
   "execution_count": 36,
   "metadata": {},
   "outputs": [
    {
     "data": {
      "text/html": [
       "<div>\n",
       "<style scoped>\n",
       "    .dataframe tbody tr th:only-of-type {\n",
       "        vertical-align: middle;\n",
       "    }\n",
       "\n",
       "    .dataframe tbody tr th {\n",
       "        vertical-align: top;\n",
       "    }\n",
       "\n",
       "    .dataframe thead th {\n",
       "        text-align: right;\n",
       "    }\n",
       "</style>\n",
       "<table border=\"1\" class=\"dataframe\">\n",
       "  <thead>\n",
       "    <tr style=\"text-align: right;\">\n",
       "      <th></th>\n",
       "      <th>title</th>\n",
       "      <th>title_link</th>\n",
       "      <th>end_date</th>\n",
       "      <th>text_info</th>\n",
       "      <th>work_keyword</th>\n",
       "      <th>office_name</th>\n",
       "      <th>office_link</th>\n",
       "    </tr>\n",
       "  </thead>\n",
       "  <tbody>\n",
       "    <tr>\n",
       "      <th>0</th>\n",
       "      <td>르노삼성자동차 송탄대리점   영업사원 채용 [월 500~700]</td>\n",
       "      <td>http://www.saramin.co.kr/zf_user/jobs/relay/vi...</td>\n",
       "      <td>2020/10/04</td>\n",
       "      <td>경기 평택시\\n경력무관\\n초대졸↑\\n계약직·파견직</td>\n",
       "      <td>자동차매장, 자동차영업 '삼성' 검색위치 근무 부서 , 지원 분야 , 공고 내용 ,...</td>\n",
       "      <td>르노삼성자동차 송탄지점</td>\n",
       "      <td>http://www.saramin.co.kr/zf_user/jobs/relay/vi...</td>\n",
       "    </tr>\n",
       "    <tr>\n",
       "      <th>1</th>\n",
       "      <td>르노삼성자동차 서비스 정규직 (신입, 경력) 채용공고</td>\n",
       "      <td>http://www.saramin.co.kr/zf_user/jobs/relay/vi...</td>\n",
       "      <td>2020/09/05</td>\n",
       "      <td>경기 구리시\\n경력무관\\n학력무관\\n정규직</td>\n",
       "      <td>경정비, 카센터, A·S센터 외 '삼성' 검색위치 지원 분야 , 공고 내용 , 기업...</td>\n",
       "      <td>르노삼성자동차서비스코너교문점</td>\n",
       "      <td>http://www.saramin.co.kr/zf_user/jobs/relay/vi...</td>\n",
       "    </tr>\n",
       "    <tr>\n",
       "      <th>2</th>\n",
       "      <td>삼성가전배송 경력무관 채용</td>\n",
       "      <td>http://www.saramin.co.kr/zf_user/jobs/relay/vi...</td>\n",
       "      <td>2020/08/26</td>\n",
       "      <td>대구 달서구\\n경력무관\\n학력무관\\n정규직\\n200 만원</td>\n",
       "      <td>배송·택배, 운송·운수, 물류센터 외 '삼성' 검색위치 지원 분야 , 공고 내용 ,...</td>\n",
       "      <td>삼성물류센타 다존텍(황현찬)</td>\n",
       "      <td>http://www.saramin.co.kr/zf_user/jobs/relay/vi...</td>\n",
       "    </tr>\n",
       "    <tr>\n",
       "      <th>3</th>\n",
       "      <td>삼성생명GFC사업부 재무전문가의 개인비서 채용</td>\n",
       "      <td>http://www.saramin.co.kr/zf_user/jobs/relay/vi...</td>\n",
       "      <td>2020/09/20</td>\n",
       "      <td>서울 강남구\\n경력무관\\n초대졸↑\\n계약직·인턴직</td>\n",
       "      <td>생명보험, 보험사, 임원비서 외 '삼성' 검색위치 지원 분야 , 공고 내용 , 기업...</td>\n",
       "      <td>삼성생명보험(주)</td>\n",
       "      <td>http://www.saramin.co.kr/zf_user/jobs/relay/vi...</td>\n",
       "    </tr>\n",
       "    <tr>\n",
       "      <th>4</th>\n",
       "      <td>삼성 디지털프라자 서구점 정규직 모집(영업, 경리)</td>\n",
       "      <td>http://www.saramin.co.kr/zf_user/jobs/relay/vi...</td>\n",
       "      <td>2020/10/12</td>\n",
       "      <td>인천 서구\\n신입·경력\\n고졸↑\\n정규직\\n3,000 만원</td>\n",
       "      <td>IT·통신기기판매, 가전·오디오판매, 매장판매 외 '삼성' 검색위치 근무 부서 , ...</td>\n",
       "      <td>삼성서구전자(주)</td>\n",
       "      <td>http://www.saramin.co.kr/zf_user/jobs/relay/vi...</td>\n",
       "    </tr>\n",
       "    <tr>\n",
       "      <th>...</th>\n",
       "      <td>...</td>\n",
       "      <td>...</td>\n",
       "      <td>...</td>\n",
       "      <td>...</td>\n",
       "      <td>...</td>\n",
       "      <td>...</td>\n",
       "      <td>...</td>\n",
       "    </tr>\n",
       "    <tr>\n",
       "      <th>95</th>\n",
       "      <td>삼성전자 가전제품 배송 설치 보조기사님 모집합니다</td>\n",
       "      <td>http://www.saramin.co.kr/zf_user/jobs/relay/vi...</td>\n",
       "      <td>2020/10/13</td>\n",
       "      <td>경남 양산시\\n경력무관\\n학력무관\\n정규직\\n180 만원</td>\n",
       "      <td>배송·택배, 운송·운수, 배송·운송 '삼성' 검색위치 공고 내용 , 담당 업무 , ...</td>\n",
       "      <td>(주)대륙</td>\n",
       "      <td>http://www.saramin.co.kr/zf_user/jobs/relay/vi...</td>\n",
       "    </tr>\n",
       "    <tr>\n",
       "      <th>96</th>\n",
       "      <td>[삼성 현장]안전감시단 채용</td>\n",
       "      <td>http://www.saramin.co.kr/zf_user/jobs/relay/vi...</td>\n",
       "      <td>2020/08/31</td>\n",
       "      <td>충남 아산시\\n신입·경력\\n학력무관\\n정규직</td>\n",
       "      <td>용역업체, 보안·경비업체, 시설관리 외 '삼성' 검색위치 공고 내용 , 담당 업무 ...</td>\n",
       "      <td>(주)에스가드</td>\n",
       "      <td>http://www.saramin.co.kr/zf_user/jobs/relay/vi...</td>\n",
       "    </tr>\n",
       "    <tr>\n",
       "      <th>97</th>\n",
       "      <td>삼성 반도체 평택 사업장 전자직발 협력사 안전관리원모집</td>\n",
       "      <td>http://www.saramin.co.kr/zf_user/jobs/relay/vi...</td>\n",
       "      <td>2020/08/27</td>\n",
       "      <td>경기 평택시\\n경력무관\\n학력무관\\n정규직\\n3,400~3,600</td>\n",
       "      <td>파견대행, 안전 '삼성' 검색위치 공고 내용 , 담당 업무 , 공고 제목</td>\n",
       "      <td>(주)제이에스씨앤에스</td>\n",
       "      <td>http://www.saramin.co.kr/zf_user/jobs/relay/vi...</td>\n",
       "    </tr>\n",
       "    <tr>\n",
       "      <th>98</th>\n",
       "      <td>[삼성협력사] 자동화설비 엔지니어 모집(3명) - 경력무관</td>\n",
       "      <td>http://www.saramin.co.kr/zf_user/jobs/relay/vi...</td>\n",
       "      <td>2020/10/19</td>\n",
       "      <td>충남 아산시\\n경력무관\\n학력무관\\n정규직</td>\n",
       "      <td>자동제어, 자동화설비 '삼성' 검색위치 공고 내용 , 담당 업무 , 공고 제목</td>\n",
       "      <td>이엠에스(EMS)</td>\n",
       "      <td>http://www.saramin.co.kr/zf_user/jobs/relay/vi...</td>\n",
       "    </tr>\n",
       "    <tr>\n",
       "      <th>99</th>\n",
       "      <td>삼성 중공업내  크레인정비 전기기사 정규직 모집</td>\n",
       "      <td>http://www.saramin.co.kr/zf_user/jobs/relay/vi...</td>\n",
       "      <td>2020/10/13</td>\n",
       "      <td>경남 거제시\\n경력무관\\n학력무관\\n정규직</td>\n",
       "      <td>전기, 전기설비, 전기설계 외 '삼성' 검색위치 공고 내용 , 담당 업무 , 공고 제목</td>\n",
       "      <td>(주)태진</td>\n",
       "      <td>http://www.saramin.co.kr/zf_user/jobs/relay/vi...</td>\n",
       "    </tr>\n",
       "  </tbody>\n",
       "</table>\n",
       "<p>100 rows × 7 columns</p>\n",
       "</div>"
      ],
      "text/plain": [
       "                                  title  \\\n",
       "0   르노삼성자동차 송탄대리점   영업사원 채용 [월 500~700]   \n",
       "1         르노삼성자동차 서비스 정규직 (신입, 경력) 채용공고   \n",
       "2                        삼성가전배송 경력무관 채용   \n",
       "3             삼성생명GFC사업부 재무전문가의 개인비서 채용   \n",
       "4          삼성 디지털프라자 서구점 정규직 모집(영업, 경리)   \n",
       "..                                  ...   \n",
       "95          삼성전자 가전제품 배송 설치 보조기사님 모집합니다   \n",
       "96                      [삼성 현장]안전감시단 채용   \n",
       "97       삼성 반도체 평택 사업장 전자직발 협력사 안전관리원모집   \n",
       "98     [삼성협력사] 자동화설비 엔지니어 모집(3명) - 경력무관   \n",
       "99           삼성 중공업내  크레인정비 전기기사 정규직 모집   \n",
       "\n",
       "                                           title_link    end_date  \\\n",
       "0   http://www.saramin.co.kr/zf_user/jobs/relay/vi...  2020/10/04   \n",
       "1   http://www.saramin.co.kr/zf_user/jobs/relay/vi...  2020/09/05   \n",
       "2   http://www.saramin.co.kr/zf_user/jobs/relay/vi...  2020/08/26   \n",
       "3   http://www.saramin.co.kr/zf_user/jobs/relay/vi...  2020/09/20   \n",
       "4   http://www.saramin.co.kr/zf_user/jobs/relay/vi...  2020/10/12   \n",
       "..                                                ...         ...   \n",
       "95  http://www.saramin.co.kr/zf_user/jobs/relay/vi...  2020/10/13   \n",
       "96  http://www.saramin.co.kr/zf_user/jobs/relay/vi...  2020/08/31   \n",
       "97  http://www.saramin.co.kr/zf_user/jobs/relay/vi...  2020/08/27   \n",
       "98  http://www.saramin.co.kr/zf_user/jobs/relay/vi...  2020/10/19   \n",
       "99  http://www.saramin.co.kr/zf_user/jobs/relay/vi...  2020/10/13   \n",
       "\n",
       "                               text_info  \\\n",
       "0            경기 평택시\\n경력무관\\n초대졸↑\\n계약직·파견직   \n",
       "1                경기 구리시\\n경력무관\\n학력무관\\n정규직   \n",
       "2        대구 달서구\\n경력무관\\n학력무관\\n정규직\\n200 만원   \n",
       "3            서울 강남구\\n경력무관\\n초대졸↑\\n계약직·인턴직   \n",
       "4       인천 서구\\n신입·경력\\n고졸↑\\n정규직\\n3,000 만원   \n",
       "..                                   ...   \n",
       "95       경남 양산시\\n경력무관\\n학력무관\\n정규직\\n180 만원   \n",
       "96              충남 아산시\\n신입·경력\\n학력무관\\n정규직   \n",
       "97  경기 평택시\\n경력무관\\n학력무관\\n정규직\\n3,400~3,600   \n",
       "98               충남 아산시\\n경력무관\\n학력무관\\n정규직   \n",
       "99               경남 거제시\\n경력무관\\n학력무관\\n정규직   \n",
       "\n",
       "                                         work_keyword      office_name  \\\n",
       "0   자동차매장, 자동차영업 '삼성' 검색위치 근무 부서 , 지원 분야 , 공고 내용 ,...     르노삼성자동차 송탄지점   \n",
       "1   경정비, 카센터, A·S센터 외 '삼성' 검색위치 지원 분야 , 공고 내용 , 기업...  르노삼성자동차서비스코너교문점   \n",
       "2   배송·택배, 운송·운수, 물류센터 외 '삼성' 검색위치 지원 분야 , 공고 내용 ,...  삼성물류센타 다존텍(황현찬)   \n",
       "3   생명보험, 보험사, 임원비서 외 '삼성' 검색위치 지원 분야 , 공고 내용 , 기업...        삼성생명보험(주)   \n",
       "4   IT·통신기기판매, 가전·오디오판매, 매장판매 외 '삼성' 검색위치 근무 부서 , ...        삼성서구전자(주)   \n",
       "..                                                ...              ...   \n",
       "95  배송·택배, 운송·운수, 배송·운송 '삼성' 검색위치 공고 내용 , 담당 업무 , ...            (주)대륙   \n",
       "96  용역업체, 보안·경비업체, 시설관리 외 '삼성' 검색위치 공고 내용 , 담당 업무 ...          (주)에스가드   \n",
       "97           파견대행, 안전 '삼성' 검색위치 공고 내용 , 담당 업무 , 공고 제목      (주)제이에스씨앤에스   \n",
       "98        자동제어, 자동화설비 '삼성' 검색위치 공고 내용 , 담당 업무 , 공고 제목        이엠에스(EMS)   \n",
       "99   전기, 전기설비, 전기설계 외 '삼성' 검색위치 공고 내용 , 담당 업무 , 공고 제목            (주)태진   \n",
       "\n",
       "                                          office_link  \n",
       "0   http://www.saramin.co.kr/zf_user/jobs/relay/vi...  \n",
       "1   http://www.saramin.co.kr/zf_user/jobs/relay/vi...  \n",
       "2   http://www.saramin.co.kr/zf_user/jobs/relay/vi...  \n",
       "3   http://www.saramin.co.kr/zf_user/jobs/relay/vi...  \n",
       "4   http://www.saramin.co.kr/zf_user/jobs/relay/vi...  \n",
       "..                                                ...  \n",
       "95  http://www.saramin.co.kr/zf_user/jobs/relay/vi...  \n",
       "96  http://www.saramin.co.kr/zf_user/jobs/relay/vi...  \n",
       "97  http://www.saramin.co.kr/zf_user/jobs/relay/vi...  \n",
       "98  http://www.saramin.co.kr/zf_user/jobs/relay/vi...  \n",
       "99  http://www.saramin.co.kr/zf_user/jobs/relay/vi...  \n",
       "\n",
       "[100 rows x 7 columns]"
      ]
     },
     "execution_count": 36,
     "metadata": {},
     "output_type": "execute_result"
    }
   ],
   "source": [
    "full_dataset"
   ]
  },
  {
   "cell_type": "code",
   "execution_count": 37,
   "metadata": {},
   "outputs": [],
   "source": [
    "area =[]\n",
    "level = []\n",
    "school = []\n",
    "keyword = []\n",
    "for row_num in range(len(full_dataset)):\n",
    "    area_ = full_dataset['text_info'][row_num].split(sep='\\n')[0]\n",
    "    level_ = full_dataset['text_info'][row_num].split(sep='\\n')[1]\n",
    "    school_ =full_dataset['text_info'][row_num].split(sep='\\n')[2]\n",
    "    keyword_ = full_dataset['work_keyword'][row_num].split(sep=\"'\")[0].strip()\n",
    "    \n",
    "    area.append(area_)\n",
    "    level.append(level_)\n",
    "    school.append(school_)\n",
    "    keyword.append(keyword_)"
   ]
  },
  {
   "cell_type": "code",
   "execution_count": 38,
   "metadata": {},
   "outputs": [],
   "source": [
    "full_dataset['area']= area\n",
    "full_dataset['level']= level\n",
    "full_dataset['school']= school\n",
    "full_dataset['keyword']= keyword\n",
    "\n",
    "full_dataset = full_dataset.drop(['text_info','work_keyword'],axis=1)\n"
   ]
  },
  {
   "cell_type": "code",
   "execution_count": 39,
   "metadata": {},
   "outputs": [],
   "source": [
    "driver.quit()"
   ]
  },
  {
   "cell_type": "code",
   "execution_count": 43,
   "metadata": {},
   "outputs": [],
   "source": [
    "full_dataset = full_dataset[['title','title_link','area','level','school','end_date','office_name','office_link','keyword']]"
   ]
  },
  {
   "cell_type": "code",
   "execution_count": 44,
   "metadata": {},
   "outputs": [],
   "source": [
    "full_dataset.to_csv('saramin_crolling.csv',encoding='euckr')"
   ]
  },
  {
   "cell_type": "code",
   "execution_count": null,
   "metadata": {},
   "outputs": [],
   "source": []
  }
 ],
 "metadata": {
  "kernelspec": {
   "display_name": "Python 3",
   "language": "python",
   "name": "python3"
  },
  "language_info": {
   "codemirror_mode": {
    "name": "ipython",
    "version": 3
   },
   "file_extension": ".py",
   "mimetype": "text/x-python",
   "name": "python",
   "nbconvert_exporter": "python",
   "pygments_lexer": "ipython3",
   "version": "3.8.3"
  }
 },
 "nbformat": 4,
 "nbformat_minor": 4
}
